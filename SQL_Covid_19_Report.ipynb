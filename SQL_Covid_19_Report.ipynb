{
  "nbformat": 4,
  "nbformat_minor": 0,
  "metadata": {
    "colab": {
      "name": "SQL_Covid_19_Report.ipynb",
      "provenance": [],
      "collapsed_sections": [],
      "include_colab_link": true
    },
    "kernelspec": {
      "name": "python3",
      "display_name": "Python 3"
    }
  },
  "cells": [
    {
      "cell_type": "markdown",
      "metadata": {
        "id": "view-in-github",
        "colab_type": "text"
      },
      "source": [
        "<a href=\"https://colab.research.google.com/github/kshuravi/SQL_Covid_19_Report/blob/main/SQL_Covid_19_Report.ipynb\" target=\"_parent\"><img src=\"https://colab.research.google.com/assets/colab-badge.svg\" alt=\"Open In Colab\"/></a>"
      ]
    },
    {
      "cell_type": "code",
      "metadata": {
        "id": "4IlKHslRqiYR"
      },
      "source": [
        "import pandas as pd\n",
        "import sqlite3 as sql\n",
        "conn = sql.connect('example.db')\n",
        "import seaborn as sns\n",
        "import matplotlib.pyplot as plt \n",
        "%matplotlib inline"
      ],
      "execution_count": null,
      "outputs": []
    },
    {
      "cell_type": "markdown",
      "metadata": {
        "id": "SMl9Ua2Vq-jq"
      },
      "source": [
        "#Covid-19 Reporting\n",
        "\n",
        "This project is based on the Toronto Covid-19 dataset, focusing on converting the dataframe to SQL table and do exploratory analysis by using SQL, Pandas, Seaborn and Matplotlib."
      ]
    },
    {
      "cell_type": "code",
      "metadata": {
        "id": "fvYqSz7FrjiM"
      },
      "source": [
        "url = 'https://ckan0.cf.opendata.inter.prod-toronto.ca/download_resource/e5bf35bc-e681-43da-b2ce-0242d00922ad?format=csv'\n",
        "df = pd.read_csv(url)"
      ],
      "execution_count": null,
      "outputs": []
    },
    {
      "cell_type": "code",
      "metadata": {
        "id": "t7WXDnBCLzwZ",
        "colab": {
          "base_uri": "https://localhost:8080/"
        },
        "outputId": "b25c321a-b949-4502-b0de-97c5f6917e3f"
      },
      "source": [
        "df.to_sql('users', con=conn)"
      ],
      "execution_count": null,
      "outputs": [
        {
          "output_type": "stream",
          "text": [
            "/usr/local/lib/python3.7/dist-packages/pandas/core/generic.py:2615: UserWarning: The spaces in these column names will not be changed. In pandas versions < 0.14, spaces were converted to underscores.\n",
            "  method=method,\n"
          ],
          "name": "stderr"
        }
      ]
    },
    {
      "cell_type": "code",
      "metadata": {
        "colab": {
          "base_uri": "https://localhost:8080/",
          "height": 413
        },
        "id": "dBTU6m90L0HI",
        "outputId": "71af9988-7533-464b-9d63-ec7d9de5ac02"
      },
      "source": [
        "pd.read_sql(\"SELECT * From users LIMIT 5\", con=conn)"
      ],
      "execution_count": null,
      "outputs": [
        {
          "output_type": "execute_result",
          "data": {
            "text/html": [
              "<div>\n",
              "<style scoped>\n",
              "    .dataframe tbody tr th:only-of-type {\n",
              "        vertical-align: middle;\n",
              "    }\n",
              "\n",
              "    .dataframe tbody tr th {\n",
              "        vertical-align: top;\n",
              "    }\n",
              "\n",
              "    .dataframe thead th {\n",
              "        text-align: right;\n",
              "    }\n",
              "</style>\n",
              "<table border=\"1\" class=\"dataframe\">\n",
              "  <thead>\n",
              "    <tr style=\"text-align: right;\">\n",
              "      <th></th>\n",
              "      <th>index</th>\n",
              "      <th>_id</th>\n",
              "      <th>Assigned_ID</th>\n",
              "      <th>Outbreak Associated</th>\n",
              "      <th>Age Group</th>\n",
              "      <th>Neighbourhood Name</th>\n",
              "      <th>FSA</th>\n",
              "      <th>Source of Infection</th>\n",
              "      <th>Classification</th>\n",
              "      <th>Episode Date</th>\n",
              "      <th>Reported Date</th>\n",
              "      <th>Client Gender</th>\n",
              "      <th>Outcome</th>\n",
              "      <th>Currently Hospitalized</th>\n",
              "      <th>Currently in ICU</th>\n",
              "      <th>Currently Intubated</th>\n",
              "      <th>Ever Hospitalized</th>\n",
              "      <th>Ever in ICU</th>\n",
              "      <th>Ever Intubated</th>\n",
              "    </tr>\n",
              "  </thead>\n",
              "  <tbody>\n",
              "    <tr>\n",
              "      <th>0</th>\n",
              "      <td>0</td>\n",
              "      <td>2046144</td>\n",
              "      <td>1</td>\n",
              "      <td>Sporadic</td>\n",
              "      <td>50 to 59 Years</td>\n",
              "      <td>Willowdale East</td>\n",
              "      <td>M2N</td>\n",
              "      <td>Travel</td>\n",
              "      <td>CONFIRMED</td>\n",
              "      <td>2020-01-22</td>\n",
              "      <td>2020-01-23</td>\n",
              "      <td>FEMALE</td>\n",
              "      <td>RESOLVED</td>\n",
              "      <td>No</td>\n",
              "      <td>No</td>\n",
              "      <td>No</td>\n",
              "      <td>No</td>\n",
              "      <td>No</td>\n",
              "      <td>No</td>\n",
              "    </tr>\n",
              "    <tr>\n",
              "      <th>1</th>\n",
              "      <td>1</td>\n",
              "      <td>2046145</td>\n",
              "      <td>2</td>\n",
              "      <td>Sporadic</td>\n",
              "      <td>50 to 59 Years</td>\n",
              "      <td>Willowdale East</td>\n",
              "      <td>M2N</td>\n",
              "      <td>Travel</td>\n",
              "      <td>CONFIRMED</td>\n",
              "      <td>2020-01-21</td>\n",
              "      <td>2020-01-23</td>\n",
              "      <td>MALE</td>\n",
              "      <td>RESOLVED</td>\n",
              "      <td>No</td>\n",
              "      <td>No</td>\n",
              "      <td>No</td>\n",
              "      <td>Yes</td>\n",
              "      <td>No</td>\n",
              "      <td>No</td>\n",
              "    </tr>\n",
              "    <tr>\n",
              "      <th>2</th>\n",
              "      <td>2</td>\n",
              "      <td>2046146</td>\n",
              "      <td>3</td>\n",
              "      <td>Sporadic</td>\n",
              "      <td>20 to 29 Years</td>\n",
              "      <td>Parkwoods-Donalda</td>\n",
              "      <td>M3A</td>\n",
              "      <td>Travel</td>\n",
              "      <td>CONFIRMED</td>\n",
              "      <td>2020-02-05</td>\n",
              "      <td>2020-02-21</td>\n",
              "      <td>FEMALE</td>\n",
              "      <td>RESOLVED</td>\n",
              "      <td>No</td>\n",
              "      <td>No</td>\n",
              "      <td>No</td>\n",
              "      <td>No</td>\n",
              "      <td>No</td>\n",
              "      <td>No</td>\n",
              "    </tr>\n",
              "    <tr>\n",
              "      <th>3</th>\n",
              "      <td>3</td>\n",
              "      <td>2046147</td>\n",
              "      <td>4</td>\n",
              "      <td>Sporadic</td>\n",
              "      <td>60 to 69 Years</td>\n",
              "      <td>Church-Yonge Corridor</td>\n",
              "      <td>M4W</td>\n",
              "      <td>Travel</td>\n",
              "      <td>CONFIRMED</td>\n",
              "      <td>2020-02-16</td>\n",
              "      <td>2020-02-25</td>\n",
              "      <td>FEMALE</td>\n",
              "      <td>RESOLVED</td>\n",
              "      <td>No</td>\n",
              "      <td>No</td>\n",
              "      <td>No</td>\n",
              "      <td>No</td>\n",
              "      <td>No</td>\n",
              "      <td>No</td>\n",
              "    </tr>\n",
              "    <tr>\n",
              "      <th>4</th>\n",
              "      <td>4</td>\n",
              "      <td>2046148</td>\n",
              "      <td>5</td>\n",
              "      <td>Sporadic</td>\n",
              "      <td>60 to 69 Years</td>\n",
              "      <td>Church-Yonge Corridor</td>\n",
              "      <td>M4W</td>\n",
              "      <td>Travel</td>\n",
              "      <td>CONFIRMED</td>\n",
              "      <td>2020-02-20</td>\n",
              "      <td>2020-02-26</td>\n",
              "      <td>MALE</td>\n",
              "      <td>RESOLVED</td>\n",
              "      <td>No</td>\n",
              "      <td>No</td>\n",
              "      <td>No</td>\n",
              "      <td>No</td>\n",
              "      <td>No</td>\n",
              "      <td>No</td>\n",
              "    </tr>\n",
              "  </tbody>\n",
              "</table>\n",
              "</div>"
            ],
            "text/plain": [
              "   index      _id  Assigned_ID  ... Ever Hospitalized Ever in ICU Ever Intubated\n",
              "0      0  2046144            1  ...                No          No             No\n",
              "1      1  2046145            2  ...               Yes          No             No\n",
              "2      2  2046146            3  ...                No          No             No\n",
              "3      3  2046147            4  ...                No          No             No\n",
              "4      4  2046148            5  ...                No          No             No\n",
              "\n",
              "[5 rows x 19 columns]"
            ]
          },
          "metadata": {
            "tags": []
          },
          "execution_count": 6
        }
      ]
    },
    {
      "cell_type": "markdown",
      "metadata": {
        "id": "b-lhWv7Wrv9M"
      },
      "source": [
        "In the cell below, select the 'Neighbourhood Name' column. "
      ]
    },
    {
      "cell_type": "code",
      "metadata": {
        "id": "vaCMkZLZrkpx",
        "colab": {
          "base_uri": "https://localhost:8080/",
          "height": 205
        },
        "outputId": "9075fd49-56f8-44e7-f97d-1fb9c662ff41"
      },
      "source": [
        "nbr = pd.read_sql(\"SELECT `Neighbourhood Name` From users\", con=conn)\n",
        "nbr.head()"
      ],
      "execution_count": null,
      "outputs": [
        {
          "output_type": "execute_result",
          "data": {
            "text/html": [
              "<div>\n",
              "<style scoped>\n",
              "    .dataframe tbody tr th:only-of-type {\n",
              "        vertical-align: middle;\n",
              "    }\n",
              "\n",
              "    .dataframe tbody tr th {\n",
              "        vertical-align: top;\n",
              "    }\n",
              "\n",
              "    .dataframe thead th {\n",
              "        text-align: right;\n",
              "    }\n",
              "</style>\n",
              "<table border=\"1\" class=\"dataframe\">\n",
              "  <thead>\n",
              "    <tr style=\"text-align: right;\">\n",
              "      <th></th>\n",
              "      <th>Neighbourhood Name</th>\n",
              "    </tr>\n",
              "  </thead>\n",
              "  <tbody>\n",
              "    <tr>\n",
              "      <th>0</th>\n",
              "      <td>Willowdale East</td>\n",
              "    </tr>\n",
              "    <tr>\n",
              "      <th>1</th>\n",
              "      <td>Willowdale East</td>\n",
              "    </tr>\n",
              "    <tr>\n",
              "      <th>2</th>\n",
              "      <td>Parkwoods-Donalda</td>\n",
              "    </tr>\n",
              "    <tr>\n",
              "      <th>3</th>\n",
              "      <td>Church-Yonge Corridor</td>\n",
              "    </tr>\n",
              "    <tr>\n",
              "      <th>4</th>\n",
              "      <td>Church-Yonge Corridor</td>\n",
              "    </tr>\n",
              "  </tbody>\n",
              "</table>\n",
              "</div>"
            ],
            "text/plain": [
              "      Neighbourhood Name\n",
              "0        Willowdale East\n",
              "1        Willowdale East\n",
              "2      Parkwoods-Donalda\n",
              "3  Church-Yonge Corridor\n",
              "4  Church-Yonge Corridor"
            ]
          },
          "metadata": {
            "tags": []
          },
          "execution_count": 49
        }
      ]
    },
    {
      "cell_type": "code",
      "metadata": {
        "colab": {
          "base_uri": "https://localhost:8080/"
        },
        "id": "CCUuumGE1Isf",
        "outputId": "c39d96f6-9c8c-4b16-e884-195238687c8c"
      },
      "source": [
        "cnt = pd.value_counts(nbr['Neighbourhood Name'], sort = True)\n",
        "cnt10 = cnt[0:10]\n",
        "cnt10"
      ],
      "execution_count": null,
      "outputs": [
        {
          "output_type": "execute_result",
          "data": {
            "text/plain": [
              "Woburn                               4551\n",
              "Downsview-Roding-CFB                 4442\n",
              "West Humber-Clairville               4018\n",
              "Mount Olive-Silverstone-Jamestown    3969\n",
              "Malvern                              3830\n",
              "Rouge                                3704\n",
              "Glenfield-Jane Heights               3644\n",
              "York University Heights              3241\n",
              "Black Creek                          2829\n",
              "Westminster-Branson                  2595\n",
              "Name: Neighbourhood Name, dtype: int64"
            ]
          },
          "metadata": {
            "tags": []
          },
          "execution_count": 50
        }
      ]
    },
    {
      "cell_type": "code",
      "metadata": {
        "colab": {
          "base_uri": "https://localhost:8080/",
          "height": 428
        },
        "id": "MvIxsEbUzaKd",
        "outputId": "c56b30b7-a45b-4a3e-a3dd-c05cc681b7c0"
      },
      "source": [
        "cnt10.plot(kind = 'bar', rot=20, figsize=(20,5))\n",
        "plt.title(\"Top 10 Neighbourhoods in Toronto to get infected by Covid-19\")\n",
        "plt.xlabel(\"Neighbourhood Name\")\n",
        "plt.ylabel(\"Count\")"
      ],
      "execution_count": null,
      "outputs": [
        {
          "output_type": "execute_result",
          "data": {
            "text/plain": [
              "Text(0, 0.5, 'Count')"
            ]
          },
          "metadata": {
            "tags": []
          },
          "execution_count": 51
        },
        {
          "output_type": "display_data",
          "data": {
            "image/png": "[encoded data removed]",
            "text/plain": [
              "<Figure size 1440x360 with 1 Axes>"
            ]
          },
          "metadata": {
            "tags": [],
            "needs_background": "light"
          }
        }
      ]
    },
    {
      "cell_type": "code",
      "metadata": {
        "id": "h1tXJSMky0Fx"
      },
      "source": [
        ""
      ],
      "execution_count": null,
      "outputs": []
    },
    {
      "cell_type": "markdown",
      "metadata": {
        "id": "hlE3Z4y8u_Qj"
      },
      "source": [
        "Use the groupby clause to group your entries in the data frame by Gender and query the **total count** of cases for each Gender. \n"
      ]
    },
    {
      "cell_type": "code",
      "metadata": {
        "id": "S7UmQEvXvO64",
        "colab": {
          "base_uri": "https://localhost:8080/",
          "height": 331
        },
        "outputId": "0f6e18ec-8ae9-4df9-b456-4a3918f1883f"
      },
      "source": [
        "pd.read_sql(\"SELECT `Client Gender`, COUNT(*) from users group by `Client Gender`\", con=conn)"
      ],
      "execution_count": null,
      "outputs": [
        {
          "output_type": "execute_result",
          "data": {
            "text/html": [
              "<div>\n",
              "<style scoped>\n",
              "    .dataframe tbody tr th:only-of-type {\n",
              "        vertical-align: middle;\n",
              "    }\n",
              "\n",
              "    .dataframe tbody tr th {\n",
              "        vertical-align: top;\n",
              "    }\n",
              "\n",
              "    .dataframe thead th {\n",
              "        text-align: right;\n",
              "    }\n",
              "</style>\n",
              "<table border=\"1\" class=\"dataframe\">\n",
              "  <thead>\n",
              "    <tr style=\"text-align: right;\">\n",
              "      <th></th>\n",
              "      <th>Client Gender</th>\n",
              "      <th>COUNT(*)</th>\n",
              "    </tr>\n",
              "  </thead>\n",
              "  <tbody>\n",
              "    <tr>\n",
              "      <th>0</th>\n",
              "      <td>FEMALE</td>\n",
              "      <td>82442</td>\n",
              "    </tr>\n",
              "    <tr>\n",
              "      <th>1</th>\n",
              "      <td>MALE</td>\n",
              "      <td>82000</td>\n",
              "    </tr>\n",
              "    <tr>\n",
              "      <th>2</th>\n",
              "      <td>NON-BINARY</td>\n",
              "      <td>21</td>\n",
              "    </tr>\n",
              "    <tr>\n",
              "      <th>3</th>\n",
              "      <td>NOT LISTED, PLEASE SPECIFY</td>\n",
              "      <td>3</td>\n",
              "    </tr>\n",
              "    <tr>\n",
              "      <th>4</th>\n",
              "      <td>OTHER</td>\n",
              "      <td>23</td>\n",
              "    </tr>\n",
              "    <tr>\n",
              "      <th>5</th>\n",
              "      <td>TRANS MAN</td>\n",
              "      <td>3</td>\n",
              "    </tr>\n",
              "    <tr>\n",
              "      <th>6</th>\n",
              "      <td>TRANS WOMAN</td>\n",
              "      <td>2</td>\n",
              "    </tr>\n",
              "    <tr>\n",
              "      <th>7</th>\n",
              "      <td>TRANSGENDER</td>\n",
              "      <td>22</td>\n",
              "    </tr>\n",
              "    <tr>\n",
              "      <th>8</th>\n",
              "      <td>UNKNOWN</td>\n",
              "      <td>2597</td>\n",
              "    </tr>\n",
              "  </tbody>\n",
              "</table>\n",
              "</div>"
            ],
            "text/plain": [
              "                Client Gender  COUNT(*)\n",
              "0                      FEMALE     82442\n",
              "1                        MALE     82000\n",
              "2                  NON-BINARY        21\n",
              "3  NOT LISTED, PLEASE SPECIFY         3\n",
              "4                       OTHER        23\n",
              "5                   TRANS MAN         3\n",
              "6                 TRANS WOMAN         2\n",
              "7                 TRANSGENDER        22\n",
              "8                     UNKNOWN      2597"
            ]
          },
          "metadata": {
            "tags": []
          },
          "execution_count": 54
        }
      ]
    },
    {
      "cell_type": "markdown",
      "metadata": {
        "id": "TqsSDKpPshO8"
      },
      "source": [
        "Select the rows in the table where the infected patients were ever hospitalized"
      ]
    },
    {
      "cell_type": "code",
      "metadata": {
        "id": "8wlWp0g-tIBZ",
        "colab": {
          "base_uri": "https://localhost:8080/",
          "height": 378
        },
        "outputId": "5f63f7a6-3cf2-4bc8-b02f-6d6cea6923ec"
      },
      "source": [
        "hsp = pd.read_sql(\"SELECT * FROM users\\\n",
        "              WHERE `Ever Hospitalized` = 'Yes'\", con=conn)\n",
        "hsp.head()"
      ],
      "execution_count": null,
      "outputs": [
        {
          "output_type": "execute_result",
          "data": {
            "text/html": [
              "<div>\n",
              "<style scoped>\n",
              "    .dataframe tbody tr th:only-of-type {\n",
              "        vertical-align: middle;\n",
              "    }\n",
              "\n",
              "    .dataframe tbody tr th {\n",
              "        vertical-align: top;\n",
              "    }\n",
              "\n",
              "    .dataframe thead th {\n",
              "        text-align: right;\n",
              "    }\n",
              "</style>\n",
              "<table border=\"1\" class=\"dataframe\">\n",
              "  <thead>\n",
              "    <tr style=\"text-align: right;\">\n",
              "      <th></th>\n",
              "      <th>index</th>\n",
              "      <th>_id</th>\n",
              "      <th>Assigned_ID</th>\n",
              "      <th>Outbreak Associated</th>\n",
              "      <th>Age Group</th>\n",
              "      <th>Neighbourhood Name</th>\n",
              "      <th>FSA</th>\n",
              "      <th>Source of Infection</th>\n",
              "      <th>Classification</th>\n",
              "      <th>Episode Date</th>\n",
              "      <th>Reported Date</th>\n",
              "      <th>Client Gender</th>\n",
              "      <th>Outcome</th>\n",
              "      <th>Currently Hospitalized</th>\n",
              "      <th>Currently in ICU</th>\n",
              "      <th>Currently Intubated</th>\n",
              "      <th>Ever Hospitalized</th>\n",
              "      <th>Ever in ICU</th>\n",
              "      <th>Ever Intubated</th>\n",
              "    </tr>\n",
              "  </thead>\n",
              "  <tbody>\n",
              "    <tr>\n",
              "      <th>0</th>\n",
              "      <td>1</td>\n",
              "      <td>2046145</td>\n",
              "      <td>2</td>\n",
              "      <td>Sporadic</td>\n",
              "      <td>50 to 59 Years</td>\n",
              "      <td>Willowdale East</td>\n",
              "      <td>M2N</td>\n",
              "      <td>Travel</td>\n",
              "      <td>CONFIRMED</td>\n",
              "      <td>2020-01-21</td>\n",
              "      <td>2020-01-23</td>\n",
              "      <td>MALE</td>\n",
              "      <td>RESOLVED</td>\n",
              "      <td>No</td>\n",
              "      <td>No</td>\n",
              "      <td>No</td>\n",
              "      <td>Yes</td>\n",
              "      <td>No</td>\n",
              "      <td>No</td>\n",
              "    </tr>\n",
              "    <tr>\n",
              "      <th>1</th>\n",
              "      <td>7</td>\n",
              "      <td>2046151</td>\n",
              "      <td>8</td>\n",
              "      <td>Sporadic</td>\n",
              "      <td>60 to 69 Years</td>\n",
              "      <td>Willowdale West</td>\n",
              "      <td>M2N</td>\n",
              "      <td>Travel</td>\n",
              "      <td>CONFIRMED</td>\n",
              "      <td>2020-02-21</td>\n",
              "      <td>2020-03-04</td>\n",
              "      <td>MALE</td>\n",
              "      <td>RESOLVED</td>\n",
              "      <td>No</td>\n",
              "      <td>No</td>\n",
              "      <td>No</td>\n",
              "      <td>Yes</td>\n",
              "      <td>No</td>\n",
              "      <td>No</td>\n",
              "    </tr>\n",
              "    <tr>\n",
              "      <th>2</th>\n",
              "      <td>17</td>\n",
              "      <td>2046161</td>\n",
              "      <td>19</td>\n",
              "      <td>Outbreak Associated</td>\n",
              "      <td>40 to 49 Years</td>\n",
              "      <td>Moss Park</td>\n",
              "      <td>M5A</td>\n",
              "      <td>Outbreaks, Congregate Settings</td>\n",
              "      <td>CONFIRMED</td>\n",
              "      <td>2020-04-14</td>\n",
              "      <td>2020-03-06</td>\n",
              "      <td>MALE</td>\n",
              "      <td>RESOLVED</td>\n",
              "      <td>No</td>\n",
              "      <td>No</td>\n",
              "      <td>No</td>\n",
              "      <td>Yes</td>\n",
              "      <td>No</td>\n",
              "      <td>No</td>\n",
              "    </tr>\n",
              "    <tr>\n",
              "      <th>3</th>\n",
              "      <td>21</td>\n",
              "      <td>2046165</td>\n",
              "      <td>23</td>\n",
              "      <td>Sporadic</td>\n",
              "      <td>60 to 69 Years</td>\n",
              "      <td>Malvern</td>\n",
              "      <td>M1B</td>\n",
              "      <td>Travel</td>\n",
              "      <td>CONFIRMED</td>\n",
              "      <td>2020-03-04</td>\n",
              "      <td>2020-03-08</td>\n",
              "      <td>FEMALE</td>\n",
              "      <td>RESOLVED</td>\n",
              "      <td>No</td>\n",
              "      <td>No</td>\n",
              "      <td>No</td>\n",
              "      <td>Yes</td>\n",
              "      <td>Yes</td>\n",
              "      <td>Yes</td>\n",
              "    </tr>\n",
              "    <tr>\n",
              "      <th>4</th>\n",
              "      <td>34</td>\n",
              "      <td>2046178</td>\n",
              "      <td>38</td>\n",
              "      <td>Sporadic</td>\n",
              "      <td>19 and younger</td>\n",
              "      <td>Dovercourt-Wallace Emerson-Junction</td>\n",
              "      <td>M6H</td>\n",
              "      <td>Travel</td>\n",
              "      <td>CONFIRMED</td>\n",
              "      <td>2020-03-09</td>\n",
              "      <td>2020-03-11</td>\n",
              "      <td>FEMALE</td>\n",
              "      <td>RESOLVED</td>\n",
              "      <td>No</td>\n",
              "      <td>No</td>\n",
              "      <td>No</td>\n",
              "      <td>Yes</td>\n",
              "      <td>No</td>\n",
              "      <td>No</td>\n",
              "    </tr>\n",
              "  </tbody>\n",
              "</table>\n",
              "</div>"
            ],
            "text/plain": [
              "   index      _id  Assigned_ID  ... Ever Hospitalized Ever in ICU Ever Intubated\n",
              "0      1  2046145            2  ...               Yes          No             No\n",
              "1      7  2046151            8  ...               Yes          No             No\n",
              "2     17  2046161           19  ...               Yes          No             No\n",
              "3     21  2046165           23  ...               Yes         Yes            Yes\n",
              "4     34  2046178           38  ...               Yes          No             No\n",
              "\n",
              "[5 rows x 19 columns]"
            ]
          },
          "metadata": {
            "tags": []
          },
          "execution_count": 57
        }
      ]
    },
    {
      "cell_type": "code",
      "metadata": {
        "colab": {
          "base_uri": "https://localhost:8080/"
        },
        "id": "lEKKR3Wn8MGm",
        "outputId": "d791e599-6f95-4c27-d467-96df3b550872"
      },
      "source": [
        "gcnt = pd.value_counts(hsp['Client Gender'], sort = True)\n",
        "# gcnt10 = cnt[0:10]\n",
        "# gcnt10\n",
        "gcnt"
      ],
      "execution_count": null,
      "outputs": [
        {
          "output_type": "execute_result",
          "data": {
            "text/plain": [
              "MALE          5815\n",
              "FEMALE        4970\n",
              "UNKNOWN         79\n",
              "NON-BINARY       1\n",
              "Name: Client Gender, dtype: int64"
            ]
          },
          "metadata": {
            "tags": []
          },
          "execution_count": 58
        }
      ]
    },
    {
      "cell_type": "code",
      "metadata": {
        "colab": {
          "base_uri": "https://localhost:8080/",
          "height": 313
        },
        "id": "iW9vDDAK8le3",
        "outputId": "00f0df9d-5c1a-459e-bda9-8d48832f8b7e"
      },
      "source": [
        "gcnt.plot(kind = 'bar', rot=0, figsize=(8,4))\n",
        "plt.title(\"Client Gender count in Toronto ever hospitalized after getting infected by Covid-19\")\n",
        "plt.xlabel(\"Client Gender\")\n",
        "plt.ylabel(\"Count\")"
      ],
      "execution_count": null,
      "outputs": [
        {
          "output_type": "execute_result",
          "data": {
            "text/plain": [
              "Text(0, 0.5, 'Count')"
            ]
          },
          "metadata": {
            "tags": []
          },
          "execution_count": 62
        },
        {
          "output_type": "display_data",
          "data": {
            "image/png": "[encoded data removed]",
            "text/plain": [
              "<Figure size 576x288 with 1 Axes>"
            ]
          },
          "metadata": {
            "tags": [],
            "needs_background": "light"
          }
        }
      ]
    },
    {
      "cell_type": "code",
      "metadata": {
        "id": "ibRU7r-kxBH2"
      },
      "source": [
        ""
      ],
      "execution_count": null,
      "outputs": []
    },
    {
      "cell_type": "markdown",
      "metadata": {
        "id": "e12ZjjpQJxUJ"
      },
      "source": [
        "Create a grouped bar chart showing the count of infections between male and female from month to month."
      ]
    },
    {
      "cell_type": "code",
      "metadata": {
        "colab": {
          "base_uri": "https://localhost:8080/",
          "height": 413
        },
        "id": "-8xHPGJWJxUK",
        "outputId": "4e0f3e6b-91ac-4578-b203-182799ce9680"
      },
      "source": [
        "df = pd.read_csv(url)\n",
        "df.head()"
      ],
      "execution_count": null,
      "outputs": [
        {
          "output_type": "execute_result",
          "data": {
            "text/html": [
              "<div>\n",
              "<style scoped>\n",
              "    .dataframe tbody tr th:only-of-type {\n",
              "        vertical-align: middle;\n",
              "    }\n",
              "\n",
              "    .dataframe tbody tr th {\n",
              "        vertical-align: top;\n",
              "    }\n",
              "\n",
              "    .dataframe thead th {\n",
              "        text-align: right;\n",
              "    }\n",
              "</style>\n",
              "<table border=\"1\" class=\"dataframe\">\n",
              "  <thead>\n",
              "    <tr style=\"text-align: right;\">\n",
              "      <th></th>\n",
              "      <th>_id</th>\n",
              "      <th>Assigned_ID</th>\n",
              "      <th>Outbreak Associated</th>\n",
              "      <th>Age Group</th>\n",
              "      <th>Neighbourhood Name</th>\n",
              "      <th>FSA</th>\n",
              "      <th>Source of Infection</th>\n",
              "      <th>Classification</th>\n",
              "      <th>Episode Date</th>\n",
              "      <th>Reported Date</th>\n",
              "      <th>Client Gender</th>\n",
              "      <th>Outcome</th>\n",
              "      <th>Currently Hospitalized</th>\n",
              "      <th>Currently in ICU</th>\n",
              "      <th>Currently Intubated</th>\n",
              "      <th>Ever Hospitalized</th>\n",
              "      <th>Ever in ICU</th>\n",
              "      <th>Ever Intubated</th>\n",
              "    </tr>\n",
              "  </thead>\n",
              "  <tbody>\n",
              "    <tr>\n",
              "      <th>0</th>\n",
              "      <td>2046144</td>\n",
              "      <td>1</td>\n",
              "      <td>Sporadic</td>\n",
              "      <td>50 to 59 Years</td>\n",
              "      <td>Willowdale East</td>\n",
              "      <td>M2N</td>\n",
              "      <td>Travel</td>\n",
              "      <td>CONFIRMED</td>\n",
              "      <td>2020-01-22</td>\n",
              "      <td>2020-01-23</td>\n",
              "      <td>FEMALE</td>\n",
              "      <td>RESOLVED</td>\n",
              "      <td>No</td>\n",
              "      <td>No</td>\n",
              "      <td>No</td>\n",
              "      <td>No</td>\n",
              "      <td>No</td>\n",
              "      <td>No</td>\n",
              "    </tr>\n",
              "    <tr>\n",
              "      <th>1</th>\n",
              "      <td>2046145</td>\n",
              "      <td>2</td>\n",
              "      <td>Sporadic</td>\n",
              "      <td>50 to 59 Years</td>\n",
              "      <td>Willowdale East</td>\n",
              "      <td>M2N</td>\n",
              "      <td>Travel</td>\n",
              "      <td>CONFIRMED</td>\n",
              "      <td>2020-01-21</td>\n",
              "      <td>2020-01-23</td>\n",
              "      <td>MALE</td>\n",
              "      <td>RESOLVED</td>\n",
              "      <td>No</td>\n",
              "      <td>No</td>\n",
              "      <td>No</td>\n",
              "      <td>Yes</td>\n",
              "      <td>No</td>\n",
              "      <td>No</td>\n",
              "    </tr>\n",
              "    <tr>\n",
              "      <th>2</th>\n",
              "      <td>2046146</td>\n",
              "      <td>3</td>\n",
              "      <td>Sporadic</td>\n",
              "      <td>20 to 29 Years</td>\n",
              "      <td>Parkwoods-Donalda</td>\n",
              "      <td>M3A</td>\n",
              "      <td>Travel</td>\n",
              "      <td>CONFIRMED</td>\n",
              "      <td>2020-02-05</td>\n",
              "      <td>2020-02-21</td>\n",
              "      <td>FEMALE</td>\n",
              "      <td>RESOLVED</td>\n",
              "      <td>No</td>\n",
              "      <td>No</td>\n",
              "      <td>No</td>\n",
              "      <td>No</td>\n",
              "      <td>No</td>\n",
              "      <td>No</td>\n",
              "    </tr>\n",
              "    <tr>\n",
              "      <th>3</th>\n",
              "      <td>2046147</td>\n",
              "      <td>4</td>\n",
              "      <td>Sporadic</td>\n",
              "      <td>60 to 69 Years</td>\n",
              "      <td>Church-Yonge Corridor</td>\n",
              "      <td>M4W</td>\n",
              "      <td>Travel</td>\n",
              "      <td>CONFIRMED</td>\n",
              "      <td>2020-02-16</td>\n",
              "      <td>2020-02-25</td>\n",
              "      <td>FEMALE</td>\n",
              "      <td>RESOLVED</td>\n",
              "      <td>No</td>\n",
              "      <td>No</td>\n",
              "      <td>No</td>\n",
              "      <td>No</td>\n",
              "      <td>No</td>\n",
              "      <td>No</td>\n",
              "    </tr>\n",
              "    <tr>\n",
              "      <th>4</th>\n",
              "      <td>2046148</td>\n",
              "      <td>5</td>\n",
              "      <td>Sporadic</td>\n",
              "      <td>60 to 69 Years</td>\n",
              "      <td>Church-Yonge Corridor</td>\n",
              "      <td>M4W</td>\n",
              "      <td>Travel</td>\n",
              "      <td>CONFIRMED</td>\n",
              "      <td>2020-02-20</td>\n",
              "      <td>2020-02-26</td>\n",
              "      <td>MALE</td>\n",
              "      <td>RESOLVED</td>\n",
              "      <td>No</td>\n",
              "      <td>No</td>\n",
              "      <td>No</td>\n",
              "      <td>No</td>\n",
              "      <td>No</td>\n",
              "      <td>No</td>\n",
              "    </tr>\n",
              "  </tbody>\n",
              "</table>\n",
              "</div>"
            ],
            "text/plain": [
              "       _id  Assigned_ID  ... Ever in ICU Ever Intubated\n",
              "0  2046144            1  ...          No             No\n",
              "1  2046145            2  ...          No             No\n",
              "2  2046146            3  ...          No             No\n",
              "3  2046147            4  ...          No             No\n",
              "4  2046148            5  ...          No             No\n",
              "\n",
              "[5 rows x 18 columns]"
            ]
          },
          "metadata": {
            "tags": []
          },
          "execution_count": 10
        }
      ]
    },
    {
      "cell_type": "code",
      "metadata": {
        "id": "3h4-rBwMCZzD",
        "colab": {
          "base_uri": "https://localhost:8080/",
          "height": 413
        },
        "outputId": "eae9ac78-aae2-466e-cf60-a5981bc212dc"
      },
      "source": [
        "new = df.loc[(df['Client Gender'] == 'MALE') | (df['Client Gender'] =='FEMALE')]\n",
        "new.head()"
      ],
      "execution_count": null,
      "outputs": [
        {
          "output_type": "execute_result",
          "data": {
            "text/html": [
              "<div>\n",
              "<style scoped>\n",
              "    .dataframe tbody tr th:only-of-type {\n",
              "        vertical-align: middle;\n",
              "    }\n",
              "\n",
              "    .dataframe tbody tr th {\n",
              "        vertical-align: top;\n",
              "    }\n",
              "\n",
              "    .dataframe thead th {\n",
              "        text-align: right;\n",
              "    }\n",
              "</style>\n",
              "<table border=\"1\" class=\"dataframe\">\n",
              "  <thead>\n",
              "    <tr style=\"text-align: right;\">\n",
              "      <th></th>\n",
              "      <th>_id</th>\n",
              "      <th>Assigned_ID</th>\n",
              "      <th>Outbreak Associated</th>\n",
              "      <th>Age Group</th>\n",
              "      <th>Neighbourhood Name</th>\n",
              "      <th>FSA</th>\n",
              "      <th>Source of Infection</th>\n",
              "      <th>Classification</th>\n",
              "      <th>Episode Date</th>\n",
              "      <th>Reported Date</th>\n",
              "      <th>Client Gender</th>\n",
              "      <th>Outcome</th>\n",
              "      <th>Currently Hospitalized</th>\n",
              "      <th>Currently in ICU</th>\n",
              "      <th>Currently Intubated</th>\n",
              "      <th>Ever Hospitalized</th>\n",
              "      <th>Ever in ICU</th>\n",
              "      <th>Ever Intubated</th>\n",
              "    </tr>\n",
              "  </thead>\n",
              "  <tbody>\n",
              "    <tr>\n",
              "      <th>0</th>\n",
              "      <td>2046144</td>\n",
              "      <td>1</td>\n",
              "      <td>Sporadic</td>\n",
              "      <td>50 to 59 Years</td>\n",
              "      <td>Willowdale East</td>\n",
              "      <td>M2N</td>\n",
              "      <td>Travel</td>\n",
              "      <td>CONFIRMED</td>\n",
              "      <td>2020-01-22</td>\n",
              "      <td>2020-01-23</td>\n",
              "      <td>FEMALE</td>\n",
              "      <td>RESOLVED</td>\n",
              "      <td>No</td>\n",
              "      <td>No</td>\n",
              "      <td>No</td>\n",
              "      <td>No</td>\n",
              "      <td>No</td>\n",
              "      <td>No</td>\n",
              "    </tr>\n",
              "    <tr>\n",
              "      <th>1</th>\n",
              "      <td>2046145</td>\n",
              "      <td>2</td>\n",
              "      <td>Sporadic</td>\n",
              "      <td>50 to 59 Years</td>\n",
              "      <td>Willowdale East</td>\n",
              "      <td>M2N</td>\n",
              "      <td>Travel</td>\n",
              "      <td>CONFIRMED</td>\n",
              "      <td>2020-01-21</td>\n",
              "      <td>2020-01-23</td>\n",
              "      <td>MALE</td>\n",
              "      <td>RESOLVED</td>\n",
              "      <td>No</td>\n",
              "      <td>No</td>\n",
              "      <td>No</td>\n",
              "      <td>Yes</td>\n",
              "      <td>No</td>\n",
              "      <td>No</td>\n",
              "    </tr>\n",
              "    <tr>\n",
              "      <th>2</th>\n",
              "      <td>2046146</td>\n",
              "      <td>3</td>\n",
              "      <td>Sporadic</td>\n",
              "      <td>20 to 29 Years</td>\n",
              "      <td>Parkwoods-Donalda</td>\n",
              "      <td>M3A</td>\n",
              "      <td>Travel</td>\n",
              "      <td>CONFIRMED</td>\n",
              "      <td>2020-02-05</td>\n",
              "      <td>2020-02-21</td>\n",
              "      <td>FEMALE</td>\n",
              "      <td>RESOLVED</td>\n",
              "      <td>No</td>\n",
              "      <td>No</td>\n",
              "      <td>No</td>\n",
              "      <td>No</td>\n",
              "      <td>No</td>\n",
              "      <td>No</td>\n",
              "    </tr>\n",
              "    <tr>\n",
              "      <th>3</th>\n",
              "      <td>2046147</td>\n",
              "      <td>4</td>\n",
              "      <td>Sporadic</td>\n",
              "      <td>60 to 69 Years</td>\n",
              "      <td>Church-Yonge Corridor</td>\n",
              "      <td>M4W</td>\n",
              "      <td>Travel</td>\n",
              "      <td>CONFIRMED</td>\n",
              "      <td>2020-02-16</td>\n",
              "      <td>2020-02-25</td>\n",
              "      <td>FEMALE</td>\n",
              "      <td>RESOLVED</td>\n",
              "      <td>No</td>\n",
              "      <td>No</td>\n",
              "      <td>No</td>\n",
              "      <td>No</td>\n",
              "      <td>No</td>\n",
              "      <td>No</td>\n",
              "    </tr>\n",
              "    <tr>\n",
              "      <th>4</th>\n",
              "      <td>2046148</td>\n",
              "      <td>5</td>\n",
              "      <td>Sporadic</td>\n",
              "      <td>60 to 69 Years</td>\n",
              "      <td>Church-Yonge Corridor</td>\n",
              "      <td>M4W</td>\n",
              "      <td>Travel</td>\n",
              "      <td>CONFIRMED</td>\n",
              "      <td>2020-02-20</td>\n",
              "      <td>2020-02-26</td>\n",
              "      <td>MALE</td>\n",
              "      <td>RESOLVED</td>\n",
              "      <td>No</td>\n",
              "      <td>No</td>\n",
              "      <td>No</td>\n",
              "      <td>No</td>\n",
              "      <td>No</td>\n",
              "      <td>No</td>\n",
              "    </tr>\n",
              "  </tbody>\n",
              "</table>\n",
              "</div>"
            ],
            "text/plain": [
              "       _id  Assigned_ID  ... Ever in ICU Ever Intubated\n",
              "0  2046144            1  ...          No             No\n",
              "1  2046145            2  ...          No             No\n",
              "2  2046146            3  ...          No             No\n",
              "3  2046147            4  ...          No             No\n",
              "4  2046148            5  ...          No             No\n",
              "\n",
              "[5 rows x 18 columns]"
            ]
          },
          "metadata": {
            "tags": []
          },
          "execution_count": 12
        }
      ]
    },
    {
      "cell_type": "code",
      "metadata": {
        "id": "LsJR4siXCeG-"
      },
      "source": [
        "Dates = pd.to_datetime(new['Episode Date'])\n",
        "new['Dates'] = Dates\n",
        "new[\"Month\"] = new['Dates'].dt.month\n",
        "new[\"Year\"] = new['Dates'].dt.year"
      ],
      "execution_count": null,
      "outputs": []
    },
    {
      "cell_type": "code",
      "metadata": {
        "colab": {
          "base_uri": "https://localhost:8080/",
          "height": 422
        },
        "id": "ioXP7whNT8rz",
        "outputId": "c2b759ff-e610-4df5-b319-3b152cf89f2c"
      },
      "source": [
        "new[['Client Gender','Month',\t'Year']]"
      ],
      "execution_count": null,
      "outputs": [
        {
          "output_type": "execute_result",
          "data": {
            "text/html": [
              "<div>\n",
              "<style scoped>\n",
              "    .dataframe tbody tr th:only-of-type {\n",
              "        vertical-align: middle;\n",
              "    }\n",
              "\n",
              "    .dataframe tbody tr th {\n",
              "        vertical-align: top;\n",
              "    }\n",
              "\n",
              "    .dataframe thead th {\n",
              "        text-align: right;\n",
              "    }\n",
              "</style>\n",
              "<table border=\"1\" class=\"dataframe\">\n",
              "  <thead>\n",
              "    <tr style=\"text-align: right;\">\n",
              "      <th></th>\n",
              "      <th>Client Gender</th>\n",
              "      <th>Month</th>\n",
              "      <th>Year</th>\n",
              "    </tr>\n",
              "  </thead>\n",
              "  <tbody>\n",
              "    <tr>\n",
              "      <th>0</th>\n",
              "      <td>FEMALE</td>\n",
              "      <td>1</td>\n",
              "      <td>2020</td>\n",
              "    </tr>\n",
              "    <tr>\n",
              "      <th>1</th>\n",
              "      <td>MALE</td>\n",
              "      <td>1</td>\n",
              "      <td>2020</td>\n",
              "    </tr>\n",
              "    <tr>\n",
              "      <th>2</th>\n",
              "      <td>FEMALE</td>\n",
              "      <td>2</td>\n",
              "      <td>2020</td>\n",
              "    </tr>\n",
              "    <tr>\n",
              "      <th>3</th>\n",
              "      <td>FEMALE</td>\n",
              "      <td>2</td>\n",
              "      <td>2020</td>\n",
              "    </tr>\n",
              "    <tr>\n",
              "      <th>4</th>\n",
              "      <td>MALE</td>\n",
              "      <td>2</td>\n",
              "      <td>2020</td>\n",
              "    </tr>\n",
              "    <tr>\n",
              "      <th>...</th>\n",
              "      <td>...</td>\n",
              "      <td>...</td>\n",
              "      <td>...</td>\n",
              "    </tr>\n",
              "    <tr>\n",
              "      <th>167108</th>\n",
              "      <td>MALE</td>\n",
              "      <td>5</td>\n",
              "      <td>2021</td>\n",
              "    </tr>\n",
              "    <tr>\n",
              "      <th>167109</th>\n",
              "      <td>MALE</td>\n",
              "      <td>5</td>\n",
              "      <td>2021</td>\n",
              "    </tr>\n",
              "    <tr>\n",
              "      <th>167110</th>\n",
              "      <td>MALE</td>\n",
              "      <td>5</td>\n",
              "      <td>2021</td>\n",
              "    </tr>\n",
              "    <tr>\n",
              "      <th>167111</th>\n",
              "      <td>MALE</td>\n",
              "      <td>5</td>\n",
              "      <td>2021</td>\n",
              "    </tr>\n",
              "    <tr>\n",
              "      <th>167112</th>\n",
              "      <td>MALE</td>\n",
              "      <td>5</td>\n",
              "      <td>2021</td>\n",
              "    </tr>\n",
              "  </tbody>\n",
              "</table>\n",
              "<p>164442 rows × 3 columns</p>\n",
              "</div>"
            ],
            "text/plain": [
              "       Client Gender  Month  Year\n",
              "0             FEMALE      1  2020\n",
              "1               MALE      1  2020\n",
              "2             FEMALE      2  2020\n",
              "3             FEMALE      2  2020\n",
              "4               MALE      2  2020\n",
              "...              ...    ...   ...\n",
              "167108          MALE      5  2021\n",
              "167109          MALE      5  2021\n",
              "167110          MALE      5  2021\n",
              "167111          MALE      5  2021\n",
              "167112          MALE      5  2021\n",
              "\n",
              "[164442 rows x 3 columns]"
            ]
          },
          "metadata": {
            "tags": []
          },
          "execution_count": 14
        }
      ]
    },
    {
      "cell_type": "code",
      "metadata": {
        "colab": {
          "base_uri": "https://localhost:8080/"
        },
        "id": "Jyj140e-E5BC",
        "outputId": "93ad2329-0269-4ed5-9dad-41c4e7720d84"
      },
      "source": [
        "# the total count of cases for Male and Female per month\n",
        "YearMonth = new.groupby(['Year', 'Month','Client Gender'], as_index=False)\n",
        "Counts = YearMonth['Client Gender'].agg(['count'])\n",
        "print (Counts)"
      ],
      "execution_count": null,
      "outputs": [
        {
          "output_type": "stream",
          "text": [
            "                          count\n",
            "Year Month Client Gender       \n",
            "2020 1     FEMALE             2\n",
            "           MALE               2\n",
            "     2     FEMALE             6\n",
            "           MALE               9\n",
            "     3     FEMALE           904\n",
            "           MALE             884\n",
            "     4     FEMALE          3150\n",
            "           MALE            2322\n",
            "     5     FEMALE          2421\n",
            "           MALE            2257\n",
            "     6     FEMALE          1144\n",
            "           MALE            1038\n",
            "     7     FEMALE           415\n",
            "           MALE             429\n",
            "     8     FEMALE           473\n",
            "           MALE             387\n",
            "     9     FEMALE          2533\n",
            "           MALE            2606\n",
            "     10    FEMALE          4439\n",
            "           MALE            4295\n",
            "     11    FEMALE          7413\n",
            "           MALE            7456\n",
            "     12    FEMALE         10976\n",
            "           MALE           10693\n",
            "2021 1     FEMALE         11254\n",
            "           MALE           10965\n",
            "     2     FEMALE          4736\n",
            "           MALE            4968\n",
            "     3     FEMALE          8832\n",
            "           MALE            9296\n",
            "     4     FEMALE         16847\n",
            "           MALE           17156\n",
            "     5     FEMALE          6896\n",
            "           MALE            7236\n",
            "     6     FEMALE             1\n",
            "           MALE               1\n"
          ],
          "name": "stdout"
        }
      ]
    },
    {
      "cell_type": "code",
      "metadata": {
        "id": "GEYeENOWda8v"
      },
      "source": [
        "ap=pd.DataFrame(Counts)\n",
        "api=ap.reset_index()"
      ],
      "execution_count": null,
      "outputs": []
    },
    {
      "cell_type": "code",
      "metadata": {
        "colab": {
          "base_uri": "https://localhost:8080/",
          "height": 405
        },
        "id": "orcahVWQda_S",
        "outputId": "f3fd18b9-d782-4ca9-9cc0-90a864ffd06a"
      },
      "source": [
        "ax = sns.catplot(data=api[0:24], kind=\"bar\", x=\"Month\", y='count', hue=\"Client Gender\", height=5, aspect=2.5)\n",
        "ax.fig.suptitle('\\n Count of infections between Male and Female by Month to Month in 2020')"
      ],
      "execution_count": null,
      "outputs": [
        {
          "output_type": "execute_result",
          "data": {
            "text/plain": [
              "Text(0.5, 0.98, '\\n Count of infections between Male and Female by Month to Month in 2020')"
            ]
          },
          "metadata": {
            "tags": []
          },
          "execution_count": 64
        },
        {
          "output_type": "display_data",
          "data": {
            "image/png": "[encoded data removed]",
            "text/plain": [
              "<Figure size 977x360 with 1 Axes>"
            ]
          },
          "metadata": {
            "tags": [],
            "needs_background": "light"
          }
        }
      ]
    },
    {
      "cell_type": "code",
      "metadata": {
        "colab": {
          "base_uri": "https://localhost:8080/",
          "height": 405
        },
        "id": "pBgFDxAtdbCO",
        "outputId": "858d900d-7987-4889-a8ab-2ab93301ca63"
      },
      "source": [
        "ay= sns.catplot(data=api[24:], kind=\"bar\", x=\"Month\", y='count', hue=\"Client Gender\", aspect=1.5)\n",
        "ay.fig.suptitle('Count of infections between Male and Female by Month to Month in 2021')"
      ],
      "execution_count": null,
      "outputs": [
        {
          "output_type": "execute_result",
          "data": {
            "text/plain": [
              "Text(0.5, 0.98, 'Count of infections between Male and Female by Month to Month in 2021')"
            ]
          },
          "metadata": {
            "tags": []
          },
          "execution_count": 18
        },
        {
          "output_type": "display_data",
          "data": {
            "image/png": "[encoded data removed]",
            "text/plain": [
              "<Figure size 617x360 with 1 Axes>"
            ]
          },
          "metadata": {
            "tags": [],
            "needs_background": "light"
          }
        }
      ]
    },
    {
      "cell_type": "code",
      "metadata": {
        "id": "S8K_QyiAdbFI"
      },
      "source": [
        ""
      ],
      "execution_count": null,
      "outputs": []
    },
    {
      "cell_type": "code",
      "metadata": {
        "id": "qZPccUhSxeA5"
      },
      "source": [
        ""
      ],
      "execution_count": null,
      "outputs": []
    }
  ]
}